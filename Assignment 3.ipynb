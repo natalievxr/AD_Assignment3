{
 "cells": [
  {
   "cell_type": "markdown",
   "id": "af1abd19-168f-47a2-8fa1-e8c106a973ac",
   "metadata": {},
   "source": [
    "# Analysing Data - Assignment 3 \n",
    "\n",
    "Use Python’s Ollama library to prompt a model to annotate/classify song lyrics with their associated genre. Use the data (genreLyrics.csv) that is attached below.\n",
    "\n",
    "Implement 1) Zero-shot prompting and 2) Few-Shot prompting.\n",
    "\n",
    "Calculate the performance of both strategies of the model using Precision, Recall and F1 Score. Does performance vary by genre?\n",
    "\n",
    "Hint: Investigate the output of the model before you calculate P-R-F1.\n",
    "\n",
    "Provide a small discussion (½-1 page).\n",
    "Which prompting strategy worked better, and why?\n",
    "\n",
    "Did the model struggle with specific genres?\n",
    "\n",
    "How could performance be improved?\n",
    "\n",
    "Commit your notebook/code to GitHub. Do not forget to include the link to your repository when you upload your assignment. Make sure your code runs and is sufficiently documented (GitHub README and comments).\n",
    "\n",
    "\n",
    "## Downloading Ollama"
   ]
  },
  {
   "cell_type": "code",
   "execution_count": 1,
   "id": "e3cac833-78be-43b5-8f51-97bd6677c8e1",
   "metadata": {},
   "outputs": [
    {
     "name": "stdout",
     "output_type": "stream",
     "text": [
      "Collecting ollama\n",
      "  Downloading ollama-0.4.7-py3-none-any.whl.metadata (4.7 kB)\n",
      "Requirement already satisfied: httpx<0.29,>=0.27 in /Users/natalie/Downloads/python/anaconda3/lib/python3.12/site-packages (from ollama) (0.27.0)\n",
      "Collecting pydantic<3.0.0,>=2.9.0 (from ollama)\n",
      "  Downloading pydantic-2.11.1-py3-none-any.whl.metadata (63 kB)\n",
      "\u001b[2K     \u001b[90m━━━━━━━━━━━━━━━━━━━━━━━━━━━━━━━━━━━━━━━\u001b[0m \u001b[32m63.5/63.5 kB\u001b[0m \u001b[31m642.6 kB/s\u001b[0m eta \u001b[36m0:00:00\u001b[0ma \u001b[36m0:00:01\u001b[0m\n",
      "\u001b[?25hRequirement already satisfied: anyio in /Users/natalie/Downloads/python/anaconda3/lib/python3.12/site-packages (from httpx<0.29,>=0.27->ollama) (4.2.0)\n",
      "Requirement already satisfied: certifi in /Users/natalie/Downloads/python/anaconda3/lib/python3.12/site-packages (from httpx<0.29,>=0.27->ollama) (2025.1.31)\n",
      "Requirement already satisfied: httpcore==1.* in /Users/natalie/Downloads/python/anaconda3/lib/python3.12/site-packages (from httpx<0.29,>=0.27->ollama) (1.0.2)\n",
      "Requirement already satisfied: idna in /Users/natalie/Downloads/python/anaconda3/lib/python3.12/site-packages (from httpx<0.29,>=0.27->ollama) (3.7)\n",
      "Requirement already satisfied: sniffio in /Users/natalie/Downloads/python/anaconda3/lib/python3.12/site-packages (from httpx<0.29,>=0.27->ollama) (1.3.0)\n",
      "Requirement already satisfied: h11<0.15,>=0.13 in /Users/natalie/Downloads/python/anaconda3/lib/python3.12/site-packages (from httpcore==1.*->httpx<0.29,>=0.27->ollama) (0.14.0)\n",
      "Requirement already satisfied: annotated-types>=0.6.0 in /Users/natalie/Downloads/python/anaconda3/lib/python3.12/site-packages (from pydantic<3.0.0,>=2.9.0->ollama) (0.6.0)\n",
      "Collecting pydantic-core==2.33.0 (from pydantic<3.0.0,>=2.9.0->ollama)\n",
      "  Downloading pydantic_core-2.33.0-cp312-cp312-macosx_10_12_x86_64.whl.metadata (6.8 kB)\n",
      "Collecting typing-extensions>=4.12.2 (from pydantic<3.0.0,>=2.9.0->ollama)\n",
      "  Downloading typing_extensions-4.13.0-py3-none-any.whl.metadata (3.0 kB)\n",
      "Collecting typing-inspection>=0.4.0 (from pydantic<3.0.0,>=2.9.0->ollama)\n",
      "  Downloading typing_inspection-0.4.0-py3-none-any.whl.metadata (2.6 kB)\n",
      "Downloading ollama-0.4.7-py3-none-any.whl (13 kB)\n",
      "Downloading pydantic-2.11.1-py3-none-any.whl (442 kB)\n",
      "\u001b[2K   \u001b[90m━━━━━━━━━━━━━━━━━━━━━━━━━━━━━━━━━━━━━━━━\u001b[0m \u001b[32m442.6/442.6 kB\u001b[0m \u001b[31m3.5 MB/s\u001b[0m eta \u001b[36m0:00:00\u001b[0m00:01\u001b[0m00:01\u001b[0m\n",
      "\u001b[?25hDownloading pydantic_core-2.33.0-cp312-cp312-macosx_10_12_x86_64.whl (2.0 MB)\n",
      "\u001b[2K   \u001b[90m━━━━━━━━━━━━━━━━━━━━━━━━━━━━━━━━━━━━━━━━\u001b[0m \u001b[32m2.0/2.0 MB\u001b[0m \u001b[31m3.2 MB/s\u001b[0m eta \u001b[36m0:00:00\u001b[0m00:01\u001b[0m00:01\u001b[0m\n",
      "\u001b[?25hDownloading typing_extensions-4.13.0-py3-none-any.whl (45 kB)\n",
      "\u001b[2K   \u001b[90m━━━━━━━━━━━━━━━━━━━━━━━━━━━━━━━━━━━━━━━━\u001b[0m \u001b[32m45.7/45.7 kB\u001b[0m \u001b[31m1.3 MB/s\u001b[0m eta \u001b[36m0:00:00\u001b[0m\n",
      "\u001b[?25hDownloading typing_inspection-0.4.0-py3-none-any.whl (14 kB)\n",
      "Installing collected packages: typing-extensions, typing-inspection, pydantic-core, pydantic, ollama\n",
      "  Attempting uninstall: typing-extensions\n",
      "    Found existing installation: typing_extensions 4.11.0\n",
      "    Uninstalling typing_extensions-4.11.0:\n",
      "      Successfully uninstalled typing_extensions-4.11.0\n",
      "  Attempting uninstall: pydantic-core\n",
      "    Found existing installation: pydantic_core 2.18.4\n",
      "    Uninstalling pydantic_core-2.18.4:\n",
      "      Successfully uninstalled pydantic_core-2.18.4\n",
      "  Attempting uninstall: pydantic\n",
      "    Found existing installation: pydantic 2.7.4\n",
      "    Uninstalling pydantic-2.7.4:\n",
      "      Successfully uninstalled pydantic-2.7.4\n",
      "Successfully installed ollama-0.4.7 pydantic-2.11.1 pydantic-core-2.33.0 typing-extensions-4.13.0 typing-inspection-0.4.0\n",
      "Note: you may need to restart the kernel to use updated packages.\n"
     ]
    }
   ],
   "source": [
    "pip install ollama"
   ]
  },
  {
   "cell_type": "code",
   "execution_count": 52,
   "id": "1d71f33e-e480-4804-99be-9e24dc528c67",
   "metadata": {},
   "outputs": [
    {
     "name": "stdout",
     "output_type": "stream",
     "text": [
      "\n",
      "The sky appears blue because of a phenomenon called Rayleigh scattering, which occurs when sunlight passes through the Earth's atmosphere. The atmosphere scatters the shorter, blue wavelengths of light more than the longer, red wavelengths, causing the blue light to be scattered in all directions and reach our eyes from everywhere in the sky. This is known as the \"blue sky effect.\"\n",
      "\n",
      "The reason for this scattering is that the molecules of gases in the atmosphere, such as nitrogen and oxygen, are much larger than the wavelength of light. As a result, they act like very small mirrors, reflecting the light in all directions. The blue light is scattered more than other colors because it has a shorter wavelength, which means that it is more easily reflected by the molecules in the atmosphere.\n",
      "\n",
      "In addition to Rayleigh scattering, the sky can also appear blue due to the scattering of light by particles in the atmosphere, such as dust and water droplets. This type of scattering is known as Mie scattering, and it can produce a range of colors, including blue, red, and yellow. However, Rayleigh scattering is the main cause of the blue color of the sky that we see on a clear day.\n",
      "\n",
      "It's worth noting that the appearance of the sky can change depending on the time of day, the amount of dust and water vapor in the atmosphere, and other factors. For example, during sunrise and sunset, the sky can take on hues of red, orange, and pink due to the scattering of light by atmospheric particles. Additionally, pollution and other atmospheric phenomena can also affect the color of the sky.\n"
     ]
    }
   ],
   "source": [
    "import ollama\n",
    "\n",
    "#testing\n",
    "response = ollama.chat(model='llama2', messages=[\n",
    "    {\n",
    "        'role': 'user',\n",
    "        'content': 'Why is the sky blue?',\n",
    "    },\n",
    "])\n",
    "print(response['message']['content'])"
   ]
  },
  {
   "cell_type": "markdown",
   "id": "a6c4fb77-452d-4402-bd5d-a5ee6169bd51",
   "metadata": {},
   "source": [
    "## Read dataset, pre-process and make sure column names are as expected"
   ]
  },
  {
   "cell_type": "code",
   "execution_count": 68,
   "id": "6dc4e919-cd53-4b52-99f3-b815e5390326",
   "metadata": {},
   "outputs": [
    {
     "name": "stdout",
     "output_type": "stream",
     "text": [
      "Index(['Unnamed: 0', 'genre', 'lyrics'], dtype='object')\n"
     ]
    }
   ],
   "source": [
    "import pandas as pd\n",
    "\n",
    "url = \"https://raw.githubusercontent.com/natalievxr/AD_Assignment3/main/genreLyrics.csv\"\n",
    "df = pd.read_csv(url, sep=\"\\t\", on_bad_lines=\"skip\")  # it had trouble reading the file as the commas in the lyrics were confusing\n",
    "df.columns = df.columns.str.strip()  # remove unwanted spaces from column names\n",
    "print(df.columns)  # Verify the column names\n",
    "\n"
   ]
  },
  {
   "cell_type": "code",
   "execution_count": 98,
   "id": "b825e958-8b8a-479b-a4c1-e85179936675",
   "metadata": {},
   "outputs": [
    {
     "name": "stdout",
     "output_type": "stream",
     "text": [
      "model='llama2' created_at='2025-03-29T20:15:11.428014Z' done=True done_reason='stop' total_duration=135683250106 load_duration=87431365 prompt_eval_count=275 prompt_eval_duration=35110443257 eval_count=311 eval_duration=100479585655 response=\"Based on the lyrics provided, I would classify this song as being in the Alternative Rock genre. The lyrics have a introspective and melancholic tone, with themes of self-discovery, change, and reflection. The use of repetition and imagery also adds to the emotional impact of the lyrics.\\n\\nSome key elements that suggest this song belongs to the Alternative Rock genre are:\\n\\n1. Lyrical themes: The lyrics touch on themes that are common in Alternative Rock, such as self-discovery, change, and reflection. These themes are often explored through introspective and emotional lyrics, which is a hallmark of the genre.\\n2. Musical structure: The song's musical structure, with its use of repetition and build-ups, also aligns with the conventions of Alternative Rock. The use of simple chord progressions and a steady drumbeat creates a sense of tension and release that is typical of the genre.\\n3. Imagery: The lyrics use vivid imagery to create a sense of atmosphere and mood, which is another common feature of Alternative Rock. The use of clouds, sunsets, and the passage of time creates a sense of longing and nostalgia that is typical of the genre.\\n\\nOverall, based on the lyrics provided, I would classify this song as being in the Alternative Rock genre.\" context=[518, 25580, 29962, 3532, 14816, 29903, 29958, 5299, 829, 14816, 29903, 6778, 13, 13, 2385, 1598, 278, 1494, 26627, 1199, 964, 263, 16151, 29901, 18637, 29892, 565, 366, 892, 1492, 306, 29915, 29881, 521, 559, 3448, 13, 3596, 278, 2769, 363, 590, 2030, 13521, 304, 1735, 13, 6246, 278, 1492, 3838, 29892, 1016, 29915, 29873, 13153, 895, 278, 1957, 1338, 13, 3421, 3573, 269, 2234, 964, 263, 13382, 10534, 297, 15722, 13, 3112, 1795, 925, 367, 577, 443, 11569, 11407, 29892, 338, 372, 419, 936, 13, 4591, 2745, 1286, 306, 29915, 345, 7695, 304, 1554, 1683, 13, 29902, 29915, 645, 2360, 9566, 920, 306, 2748, 4446, 6142, 13, 3644, 451, 363, 278, 982, 306, 29915, 29881, 3939, 29892, 565, 451, 363, 278, 982, 13, 29903, 388, 29892, 1432, 7234, 338, 2337, 278, 1021, 13, 29954, 834, 292, 1095, 23769, 304, 278, 9670, 27091, 306, 29915, 29881, 2337, 6314, 13, 2887, 278, 4726, 20662, 567, 411, 278, 3056, 8159, 491, 278, 6575, 842, 13, 2855, 610, 14997, 911, 278, 7051, 381, 800, 310, 278, 2462, 13, 1576, 1492, 681, 4953, 278, 4047, 9223, 13, 1576, 19225, 6743, 29892, 896, 29915, 645, 2360, 1284, 393, 6520, 393, 29915, 29879, 19225, 963, 13, 29902, 29915, 645, 2360, 9566, 920, 306, 2748, 4446, 6142, 13, 3644, 451, 363, 278, 982, 306, 29915, 29881, 3939, 29892, 565, 451, 363, 278, 982, 13, 3112, 29915, 29879, 451, 3755, 278, 1021, 13, 29902, 29915, 645, 2360, 9566, 920, 306, 2748, 4446, 6142, 13, 3644, 451, 363, 278, 982, 306, 29915, 29881, 3939, 29892, 565, 451, 363, 278, 982, 13, 3112, 29915, 29879, 451, 3755, 278, 1021, 518, 29914, 25580, 29962, 13, 29933, 1463, 373, 278, 26627, 1199, 4944, 29892, 306, 723, 770, 1598, 445, 4823, 408, 1641, 297, 278, 12440, 1230, 8027, 16151, 29889, 450, 26627, 1199, 505, 263, 25956, 12645, 322, 9232, 14588, 324, 293, 16225, 29892, 411, 963, 267, 310, 1583, 29899, 2218, 11911, 29891, 29892, 1735, 29892, 322, 17842, 29889, 450, 671, 310, 21159, 654, 322, 6382, 708, 884, 12778, 304, 278, 23023, 1848, 10879, 310, 278, 26627, 1199, 29889, 13, 13, 9526, 1820, 3161, 393, 4368, 445, 4823, 14393, 304, 278, 12440, 1230, 8027, 16151, 526, 29901, 13, 13, 29896, 29889, 365, 4316, 936, 963, 267, 29901, 450, 26627, 1199, 6023, 373, 963, 267, 393, 526, 3619, 297, 12440, 1230, 8027, 29892, 1316, 408, 1583, 29899, 2218, 11911, 29891, 29892, 1735, 29892, 322, 17842, 29889, 4525, 963, 267, 526, 4049, 3902, 4395, 1549, 25956, 12645, 322, 23023, 1848, 26627, 1199, 29892, 607, 338, 263, 12713, 3502, 310, 278, 16151, 29889, 13, 29906, 29889, 28554, 3829, 29901, 450, 4823, 29915, 29879, 9636, 3829, 29892, 411, 967, 671, 310, 21159, 654, 322, 2048, 29899, 14340, 29892, 884, 7595, 29879, 411, 278, 13064, 1080, 310, 12440, 1230, 8027, 29889, 450, 671, 310, 2560, 521, 536, 6728, 1080, 322, 263, 27357, 24103, 915, 271, 10017, 263, 4060, 310, 260, 2673, 322, 6507, 393, 338, 15662, 310, 278, 16151, 29889, 13, 29941, 29889, 1954, 351, 708, 29901, 450, 26627, 1199, 671, 325, 3640, 6382, 708, 304, 1653, 263, 4060, 310, 25005, 322, 286, 2092, 29892, 607, 338, 1790, 3619, 4682, 310, 12440, 1230, 8027, 29889, 450, 671, 310, 27091, 29892, 6575, 7224, 29892, 322, 278, 13382, 310, 931, 10017, 263, 4060, 310, 1472, 292, 322, 20990, 9564, 423, 393, 338, 15662, 310, 278, 16151, 29889, 13, 13, 3563, 497, 29892, 2729, 373, 278, 26627, 1199, 4944, 29892, 306, 723, 770, 1598, 445, 4823, 408, 1641, 297, 278, 12440, 1230, 8027, 16151, 29889]\n",
      "model='llama2' created_at='2025-03-29T20:17:05.245695Z' done=True done_reason='stop' total_duration=113628561820 load_duration=25184165 prompt_eval_count=395 prompt_eval_duration=57035042275 eval_count=151 eval_duration=56563096783 response='Based on the lyrics provided, the genre of this song can be classified as:\\n\\nPunk Rock/Riot Grrrl\\n\\nThe lyrics contain themes of confusion, conflicting emotions, and a sense of chaos and rebellion, which are all common in punk rock music. The use of repetition, rhyme, and simple language also adds to the punk aesthetic. Additionally, the lyrics touch on themes of sexuality, desire, and power dynamics, which are also common in riot grrrl music. Overall, the lyrics have a raw, rebellious, and intense quality that is characteristic of punk rock and riot grrrl.' context=[518, 25580, 29962, 3532, 14816, 29903, 29958, 5299, 829, 14816, 29903, 6778, 13, 13, 2385, 1598, 278, 1494, 26627, 1199, 964, 263, 16151, 29901, 1670, 29915, 29879, 1554, 1048, 278, 982, 591, 6216, 13, 8439, 29915, 29879, 1554, 1048, 445, 6529, 29891, 1859, 17487, 13, 8439, 29915, 29879, 1554, 1048, 278, 982, 591, 4071, 994, 13, 16804, 29915, 29879, 2355, 592, 322, 306, 925, 508, 29915, 29873, 2833, 304, 6755, 13, 29902, 864, 366, 13, 29902, 26277, 366, 13, 1576, 697, 306, 5360, 306, 26277, 13, 6246, 278, 7916, 338, 2107, 13, 1576, 697, 306, 5360, 306, 26277, 13, 6246, 278, 7916, 338, 2107, 13, 1576, 697, 306, 5360, 306, 26277, 13, 6295, 306, 640, 331, 2341, 13, 1576, 697, 306, 5360, 306, 26277, 13, 6246, 278, 7916, 338, 2107, 13, 8439, 29915, 29879, 1554, 1048, 278, 982, 591, 20343, 13, 8439, 29915, 29879, 1554, 1048, 445, 6529, 29891, 1859, 22203, 13, 8439, 29915, 29879, 1554, 1048, 278, 2712, 591, 437, 13, 16804, 29915, 29879, 2355, 592, 322, 306, 925, 508, 29915, 29873, 2833, 304, 6755, 13, 29902, 864, 366, 13, 29902, 26277, 366, 13, 1576, 697, 306, 5360, 306, 26277, 13, 6246, 278, 7916, 338, 2107, 13, 1576, 697, 306, 5360, 306, 26277, 13, 6246, 278, 7916, 338, 2107, 13, 1576, 697, 306, 5360, 306, 26277, 13, 6295, 306, 640, 331, 2341, 13, 1576, 697, 306, 5360, 306, 26277, 13, 6246, 278, 7916, 338, 2107, 13, 6716, 29892, 1023, 29892, 285, 2707, 366, 13, 29940, 1310, 1827, 694, 13, 29902, 29915, 29885, 7960, 304, 748, 13, 4806, 29915, 276, 714, 310, 2761, 13, 6246, 306, 508, 29915, 29873, 1235, 366, 748, 29892, 1235, 366, 748, 13, 8439, 29915, 29879, 1554, 1048, 278, 982, 591, 6216, 13, 8439, 29915, 29879, 1554, 1048, 445, 6529, 29891, 1859, 289, 2335, 13, 1576, 697, 306, 5360, 306, 26277, 13, 6246, 278, 7916, 338, 2107, 13, 1576, 697, 306, 5360, 306, 26277, 13, 6246, 278, 7916, 338, 2107, 13, 1576, 697, 306, 5360, 306, 26277, 13, 29902, 1033, 9378, 542, 403, 13, 1576, 697, 306, 5360, 306, 26277, 13, 6246, 278, 7916, 338, 2107, 13, 29902, 5360, 304, 26277, 366, 13, 13468, 1073, 306, 5360, 304, 26277, 366, 13, 13468, 1073, 306, 5360, 304, 26277, 366, 13, 13468, 1073, 306, 5360, 304, 26277, 366, 29892, 26277, 366, 29892, 26277, 366, 13, 29933, 2335, 518, 29914, 25580, 29962, 13, 29933, 1463, 373, 278, 26627, 1199, 4944, 29892, 278, 16151, 310, 445, 4823, 508, 367, 770, 2164, 408, 29901, 13, 13, 29925, 2960, 8027, 29914, 29934, 24414, 1632, 29878, 2096, 13, 13, 1576, 26627, 1199, 1712, 963, 267, 310, 14679, 29892, 9476, 1259, 23023, 1080, 29892, 322, 263, 4060, 310, 10329, 359, 322, 337, 12562, 291, 29892, 607, 526, 599, 3619, 297, 21356, 7679, 4696, 29889, 450, 671, 310, 21159, 654, 29892, 18178, 25395, 29892, 322, 2560, 4086, 884, 12778, 304, 278, 21356, 263, 342, 29882, 7492, 29889, 19814, 29892, 278, 26627, 1199, 6023, 373, 963, 267, 310, 18287, 537, 29892, 13521, 29892, 322, 3081, 19753, 29892, 607, 526, 884, 3619, 297, 10107, 327, 867, 29878, 2096, 4696, 29889, 6811, 497, 29892, 278, 26627, 1199, 505, 263, 10650, 29892, 15121, 5481, 681, 29892, 322, 17818, 344, 11029, 393, 338, 17443, 310, 21356, 7679, 322, 10107, 327, 867, 29878, 2096, 29889]\n",
      "model='llama2' created_at='2025-03-29T20:17:50.203461Z' done=True done_reason='stop' total_duration=44847980314 load_duration=47192040 prompt_eval_count=99 prompt_eval_duration=15940268848 eval_count=102 eval_duration=28849693075 response='Based on the lyrics provided, I would classify them as falling under the genre of Pop/Top 40. The lyrics are catchy and memorable, with a focus on love and relationships, which are common themes in Pop music. The use of repetition in the chorus (\"The magic potion\") also adds to the Pop-like quality of the lyrics. Additionally, the language used is straightforward and easy to understand, which is another characteristic of Pop music.' context=[518, 25580, 29962, 3532, 14816, 29903, 29958, 5299, 829, 14816, 29903, 6778, 13, 13, 2385, 1598, 278, 1494, 26627, 1199, 964, 263, 16151, 29901, 3118, 5768, 297, 278, 23474, 13, 23323, 367, 393, 15709, 3104, 291, 13, 6716, 5360, 29892, 1023, 26490, 13, 3492, 29915, 345, 2355, 304, 734, 279, 596, 7404, 12435, 13, 29902, 925, 8496, 29915, 29873, 25713, 385, 953, 8194, 13, 29943, 5086, 338, 27908, 29892, 590, 5360, 13, 4013, 338, 278, 697, 10322, 13, 1576, 15709, 3104, 291, 13, 1576, 15709, 3104, 291, 13, 1576, 15709, 3104, 291, 856, 518, 29914, 25580, 29962, 13, 29933, 1463, 373, 278, 26627, 1199, 4944, 29892, 306, 723, 770, 1598, 963, 408, 20327, 1090, 278, 16151, 310, 6977, 29914, 7031, 29871, 29946, 29900, 29889, 450, 26627, 1199, 526, 4380, 29891, 322, 26959, 519, 29892, 411, 263, 8569, 373, 5360, 322, 21702, 29892, 607, 526, 3619, 963, 267, 297, 6977, 4696, 29889, 450, 671, 310, 21159, 654, 297, 278, 521, 16566, 4852, 1576, 15709, 3104, 291, 1159, 884, 12778, 304, 278, 6977, 29899, 4561, 11029, 310, 278, 26627, 1199, 29889, 19814, 29892, 278, 4086, 1304, 338, 20837, 322, 4780, 304, 2274, 29892, 607, 338, 1790, 17443, 310, 6977, 4696, 29889]\n",
      "model='llama2' created_at='2025-03-29T20:19:13.164404Z' done=True done_reason='stop' total_duration=82855938340 load_duration=73398577 prompt_eval_count=387 prompt_eval_duration=48402001167 eval_count=119 eval_duration=34371296963 response='Based on the lyrics provided, the song can be classified into the genre of Emo/Sadcore music. The themes of loss, grief, and longing are common in this genre, and the use of repetition and emphasis on certain words and phrases (e.g. \"still have all of me\") suggests a emotional intensity and vulnerability. The lyrics also touch on the idea of trying to move on from a lost loved one but finding it difficult, which is another common theme in Emo/Sadcore music.' context=[518, 25580, 29962, 3532, 14816, 29903, 29958, 5299, 829, 14816, 29903, 6778, 13, 13, 2385, 1598, 278, 1494, 26627, 1199, 964, 263, 16151, 29901, 306, 29915, 29885, 577, 23407, 310, 1641, 1244, 13, 20182, 1253, 287, 491, 599, 590, 2278, 728, 8866, 29879, 13, 2855, 565, 366, 505, 304, 5967, 13, 29902, 6398, 393, 366, 723, 925, 5967, 13, 29915, 29907, 1071, 596, 10122, 1603, 16850, 414, 1244, 13, 2855, 372, 2113, 29915, 29873, 5967, 592, 7432, 13, 1349, 968, 281, 3885, 2113, 29915, 29873, 2833, 304, 540, 284, 29892, 445, 6788, 338, 925, 2086, 1855, 13, 8439, 29915, 29879, 925, 2086, 1568, 393, 931, 2609, 604, 559, 13, 10401, 366, 10680, 29892, 306, 29915, 29881, 281, 15705, 3448, 599, 310, 596, 20190, 13, 10401, 366, 29915, 29881, 885, 1633, 29892, 306, 29915, 29881, 8589, 3448, 599, 310, 596, 8866, 29879, 13, 2855, 306, 4934, 596, 1361, 1549, 599, 310, 1438, 2440, 13, 6246, 366, 1603, 505, 599, 310, 592, 13, 3492, 1304, 304, 4332, 440, 403, 592, 491, 596, 27396, 1218, 3578, 13, 10454, 29892, 306, 29915, 29885, 3216, 491, 278, 2834, 366, 2175, 5742, 13, 10858, 3700, 372, 447, 348, 1372, 590, 2748, 21246, 12561, 29879, 13, 10858, 7314, 372, 521, 1463, 3448, 599, 278, 9753, 537, 297, 592, 13, 1349, 968, 281, 3885, 2113, 29915, 29873, 2833, 304, 540, 284, 29892, 445, 6788, 338, 925, 2086, 1855, 13, 8439, 29915, 29879, 925, 2086, 1568, 393, 931, 2609, 604, 559, 13, 10401, 366, 10680, 29892, 306, 29915, 29881, 281, 15705, 3448, 599, 310, 596, 20190, 13, 10401, 366, 29915, 29881, 885, 1633, 29892, 306, 29915, 29881, 8589, 3448, 599, 310, 596, 8866, 29879, 13, 2855, 306, 4934, 596, 1361, 1549, 599, 310, 1438, 2440, 13, 6246, 366, 1603, 505, 599, 310, 592, 13, 29902, 29915, 345, 1898, 577, 2898, 304, 2649, 6142, 393, 366, 29915, 276, 7695, 13, 6246, 2466, 366, 29915, 276, 1603, 411, 592, 29892, 306, 29915, 345, 1063, 7432, 599, 3412, 13, 10401, 366, 10680, 29892, 306, 29915, 29881, 281, 15705, 3448, 599, 310, 596, 20190, 13, 10401, 366, 29915, 29881, 885, 1633, 29892, 306, 29915, 29881, 8589, 3448, 599, 310, 596, 8866, 29879, 13, 2855, 306, 4934, 596, 1361, 1549, 599, 310, 1438, 2440, 13, 3492, 1603, 505, 599, 310, 592, 29892, 592, 29892, 592, 518, 29914, 25580, 29962, 13, 29933, 1463, 373, 278, 26627, 1199, 4944, 29892, 278, 4823, 508, 367, 770, 2164, 964, 278, 16151, 310, 2812, 29877, 29914, 29903, 328, 3221, 4696, 29889, 450, 963, 267, 310, 6410, 29892, 867, 2575, 29892, 322, 1472, 292, 526, 3619, 297, 445, 16151, 29892, 322, 278, 671, 310, 21159, 654, 322, 19310, 275, 373, 3058, 3838, 322, 12216, 2129, 313, 29872, 29889, 29887, 29889, 376, 303, 453, 505, 599, 310, 592, 1159, 14661, 263, 23023, 1848, 26171, 322, 23180, 3097, 29889, 450, 26627, 1199, 884, 6023, 373, 278, 2969, 310, 1811, 304, 4337, 373, 515, 263, 5714, 18012, 697, 541, 9138, 372, 5189, 29892, 607, 338, 1790, 3619, 10929, 297, 2812, 29877, 29914, 29903, 328, 3221, 4696, 29889]\n",
      "model='llama2' created_at='2025-03-29T20:23:16.328719Z' done=True done_reason='stop' total_duration=243080199858 load_duration=35742713 prompt_eval_count=1138 prompt_eval_duration=154363745687 eval_count=359 eval_duration=88665768273 response='Based on the lyrics provided, I would classify them as belonging to the hip hop genre with a focus on underground or experimental hip hop. The lyrics exhibit a high level of complexity and wordplay, with multiple layers of meaning and references to various cultural and scientific concepts. The use of made-up words and phrases, such as \"Vast Aire,\" \"Indelible MC\\'s,\" \"Golden Money Clan,\" and \"Power Kingdom,\" add to the unconventional nature of the lyrics.\\n\\nThe themes explored in the lyrics include:\\n\\n1. The narrowness of the Highway to Heaven and the resulting crowding of sinners as fat tissue.\\n2. The speaker\\'s positioning themselves on the positive scale-weight of the galaxy.\\n3. The importance of examining one\\'s appetite and dietary habits, with references to calories, cholesterol, and gluttony.\\n4. The use of biscuits and gravy as a metaphor for the bassline in hip hop music.\\n5. The speaker\\'s identity as Vast Aire, an MC who is not hard but rather difficult, and who prioritizes the enjoyment of life over strict adherence to dietary restrictions.\\n6. The use of humor and wordplay throughout the lyrics, with lines like \"You can run around the world twice chasin\\' chastity\" and \"I can fondle around the outskirts of diets.\"\\n\\nOverall, the lyrics showcase a unique blend of humor, wordplay, and experimentation in hip hop music.' context=[518, 25580, 29962, 3532, 14816, 29903, 29958, 5299, 829, 14816, 29903, 6778, 13, 13, 2385, 1598, 278, 1494, 26627, 1199, 964, 263, 16151, 29901, 15011, 29892, 825, 29892, 478, 579, 319, 533, 29892, 29936, 1383, 514, 17550, 384, 636, 13, 3112, 29915, 29879, 393, 8310, 29891, 29892, 366, 1073, 825, 306, 29915, 29885, 5934, 29973, 13, 4013, 5771, 714, 304, 590, 1339, 8238, 14662, 310, 2180, 4835, 13, 29898, 7058, 29915, 29879, 590, 1734, 29892, 306, 5360, 963, 29897, 13, 4013, 5771, 714, 278, 1894, 295, 1821, 21271, 29915, 29879, 448, 366, 1073, 896, 317, 6040, 29979, 443, 13529, 519, 13, 4013, 5771, 714, 304, 6211, 310, 349, 23379, 379, 737, 7679, 13, 21472, 12626, 29892, 1833, 541, 451, 3203, 13, 29954, 1025, 264, 341, 4992, 2233, 273, 29892, 887, 1073, 323, 29899, 29896, 29892, 263, 29889, 29895, 29889, 29874, 29889, 1383, 514, 17550, 384, 29892, 274, 29915, 3712, 13, 2855, 306, 29915, 29885, 478, 579, 319, 533, 448, 525, 29876, 3096, 1497, 13, 10454, 29892, 1235, 502, 2048, 2501, 445, 2228, 13, 3644, 278, 22080, 304, 22977, 338, 12474, 29892, 769, 269, 16697, 14741, 408, 9950, 260, 15118, 13, 2855, 408, 697, 508, 1074, 29892, 306, 505, 694, 2913, 29991, 13, 6246, 306, 3933, 373, 278, 6374, 6287, 29899, 7915, 310, 278, 15400, 29891, 13, 5618, 29892, 366, 281, 9713, 2329, 285, 9864, 1270, 29973, 13, 3492, 508, 1065, 2820, 278, 3186, 8951, 521, 294, 262, 29915, 521, 579, 537, 13, 5618, 297, 278, 19339, 25622, 366, 29973, 3872, 29915, 29873, 366, 1073, 306, 286, 315, 812, 747, 284, 29973, 13, 7058, 2794, 746, 306, 29915, 29885, 18178, 962, 292, 393, 306, 679, 1623, 304, 278, 289, 650, 867, 391, 280, 13, 29902, 1369, 301, 860, 262, 29915, 590, 285, 292, 814, 4512, 297, 278, 4583, 8096, 13, 13393, 29892, 18180, 29892, 306, 29915, 29885, 6133, 1135, 13, 7058, 29915, 29879, 1492, 29892, 2038, 738, 313, 1384, 29897, 3632, 387, 4708, 13, 4690, 29907, 2439, 5521, 29961, 28772, 29962, 18121, 13, 6246, 393, 29915, 29879, 17620, 278, 1298, 13, 29911, 514, 592, 1058, 29915, 29879, 330, 11586, 4808, 278, 7688, 29973, 13, 29902, 508, 29915, 29873, 4480, 738, 5520, 13, 29902, 29915, 29885, 7960, 304, 4808, 715, 1078, 411, 2581, 23294, 801, 13, 15156, 2448, 415, 1540, 29915, 29879, 27350, 29892, 14509, 3091, 375, 304, 4337, 975, 13, 29902, 29915, 29885, 1244, 1434, 17803, 13, 18759, 292, 278, 29498, 293, 6137, 310, 10619, 29879, 1283, 13, 11760, 306, 29915, 29885, 1462, 5890, 263, 1591, 695, 720, 13, 29979, 29877, 29892, 366, 508, 4380, 592, 29892, 15690, 20710, 298, 468, 13, 29902, 508, 29915, 29873, 4459, 18178, 1541, 1516, 1728, 521, 324, 4156, 324, 13, 13555, 599, 29892, 366, 1818, 5110, 304, 13, 1252, 314, 457, 278, 623, 300, 568, 13, 3047, 262, 278, 11205, 16301, 13, 3047, 262, 278, 10122, 310, 278, 2703, 29876, 440, 487, 29915, 29879, 10977, 13, 7058, 338, 306, 13, 2855, 746, 6575, 4366, 528, 1475, 1283, 590, 20961, 271, 13, 4806, 1246, 372, 278, 21635, 16041, 301, 653, 23818, 301, 272, 1165, 25158, 13, 2831, 278, 10697, 13, 4013, 338, 1855, 2834, 29892, 322, 306, 29915, 29885, 478, 579, 319, 533, 13, 29902, 5491, 7726, 363, 1208, 3842, 29961, 28772, 29962, 13, 29903, 9089, 1460, 21271, 29915, 29879, 1811, 304, 1369, 1047, 621, 262, 29915, 13, 29933, 352, 326, 293, 21271, 29915, 29879, 1811, 304, 3183, 1554, 701, 13, 29902, 508, 6299, 280, 2820, 278, 714, 808, 381, 1372, 310, 652, 1691, 13, 29909, 1016, 329, 472, 7145, 11147, 7216, 29915, 29873, 302, 4774, 262, 29915, 13, 29902, 29915, 29885, 263, 3144, 1851, 29991, 13, 10454, 1235, 29915, 29879, 2048, 2501, 445, 2228, 13, 3644, 278, 22080, 304, 22977, 338, 12474, 29892, 769, 269, 16697, 14741, 408, 9950, 260, 15118, 13, 2855, 408, 697, 508, 1074, 29892, 306, 505, 694, 2913, 29991, 13, 6246, 306, 3933, 373, 278, 6374, 6287, 29899, 7915, 310, 278, 15400, 29891, 13, 5618, 29915, 366, 281, 9713, 2329, 285, 9864, 1270, 29973, 13, 3492, 508, 1065, 2820, 278, 3186, 8951, 521, 294, 262, 29915, 521, 579, 537, 13, 2855, 599, 393, 448, 366, 12902, 29915, 12676, 29973, 13, 3112, 29915, 29879, 323, 29899, 29896, 322, 478, 579, 319, 533, 13, 1576, 12760, 1220, 338, 763, 2652, 4979, 1169, 322, 8310, 29891, 29892, 12902, 29915, 12676, 29973, 13, 29979, 29877, 306, 29915, 29885, 478, 579, 319, 533, 29892, 306, 29915, 29885, 451, 263, 2898, 21271, 13, 29902, 29915, 29885, 451, 263, 2898, 21271, 448, 306, 29915, 29885, 478, 579, 319, 533, 13, 29902, 29915, 29885, 451, 263, 2898, 21271, 448, 306, 29915, 29885, 5189, 13, 29902, 29915, 645, 2317, 701, 2078, 5080, 29915, 7375, 282, 1862, 310, 282, 21549, 21464, 29899, 29882, 459, 13, 1576, 3144, 1851, 29891, 2768, 310, 592, 2113, 29915, 29873, 5040, 13, 29979, 29877, 29892, 372, 2113, 29915, 29873, 5040, 13, 3644, 366, 508, 29915, 29873, 505, 596, 274, 1296, 322, 17545, 372, 29892, 366, 2360, 750, 372, 13, 10773, 1582, 29892, 2298, 372, 7216, 29915, 29873, 1584, 596, 12060, 3250, 330, 326, 1004, 393, 29991, 13, 10454, 366, 2181, 1160, 287, 701, 590, 4972, 756, 393, 11509, 13, 3492, 881, 505, 25993, 29871, 29941, 29900, 6233, 304, 3965, 1708, 13, 9048, 29892, 366, 29915, 29872, 263, 285, 328, 21271, 29973, 5674, 565, 366, 1016, 29915, 29873, 1827, 13, 3492, 17229, 472, 278, 20710, 29892, 322, 599, 306, 1074, 338, 263, 18130, 29883, 482, 13, 29963, 579, 338, 278, 13901, 9103, 21271, 366, 2360, 13112, 297, 13, 6295, 306, 1109, 3276, 366, 29892, 2861, 304, 4439, 21305, 29878, 654, 13, 12513, 29879, 526, 2086, 6668, 630, 13, 1349, 1774, 896, 892, 9950, 541, 896, 871, 26060, 4094, 13, 3492, 1073, 963, 278, 2243, 12981, 728, 1134, 29892, 896, 679, 5331, 304, 278, 8370, 6129, 357, 13, 3624, 366, 4084, 479, 911, 29973, 13, 1576, 13772, 21260, 5834, 7213, 895, 592, 13, 1576, 6054, 7339, 521, 431, 1609, 13133, 322, 263, 521, 431, 1609, 1339, 368, 13, 3492, 4459, 262, 592, 29973, 313, 29979, 29923, 29909, 29950, 14366, 887, 4459, 262, 592, 29973, 313, 29979, 29923, 29909, 29950, 14366, 13, 6132, 366, 281, 9713, 8293, 263, 2217, 901, 29973, 313, 9606, 2208, 612, 29923, 29909, 29950, 14366, 13, 1576, 9560, 17346, 310, 2834, 13, 3492, 1016, 29915, 29873, 864, 592, 304, 7845, 373, 278, 916, 1095, 310, 278, 1074, 29899, 29879, 1450, 13, 29915, 29907, 1071, 366, 29915, 276, 13421, 366, 1795, 1074, 901, 13, 3492, 1795, 1074, 901, 13, 29911, 29899, 29896, 29892, 540, 701, 373, 372, 29892, 366, 1073, 825, 306, 29915, 29885, 1827, 262, 29915, 29973, 13, 29979, 29877, 29892, 306, 29915, 29885, 478, 579, 319, 533, 306, 1063, 373, 372, 13, 29963, 536, 352, 29892, 540, 701, 297, 1244, 856, 318, 29882, 29892, 825, 29973, 13, 29961, 328, 4303, 29879, 322, 11916, 2745, 1095, 29962, 518, 29914, 25580, 29962, 13, 29933, 1463, 373, 278, 26627, 1199, 4944, 29892, 306, 723, 770, 1598, 963, 408, 23329, 304, 278, 21464, 8171, 16151, 411, 263, 8569, 373, 1090, 2057, 470, 17986, 21464, 8171, 29889, 450, 26627, 1199, 10371, 277, 263, 1880, 3233, 310, 13644, 322, 1734, 1456, 29892, 411, 2999, 15359, 310, 6593, 322, 9282, 304, 5164, 16375, 322, 16021, 22001, 29889, 450, 671, 310, 1754, 29899, 786, 3838, 322, 12216, 2129, 29892, 1316, 408, 376, 29963, 579, 319, 533, 1699, 376, 2568, 295, 1821, 21271, 29915, 29879, 1699, 376, 29954, 1025, 264, 341, 4992, 2233, 273, 1699, 322, 376, 21472, 12626, 1699, 788, 304, 278, 443, 535, 794, 1848, 5469, 310, 278, 26627, 1199, 29889, 13, 13, 1576, 963, 267, 3902, 4395, 297, 278, 26627, 1199, 3160, 29901, 13, 13, 29896, 29889, 450, 12474, 2264, 310, 278, 22080, 304, 22977, 322, 278, 9819, 11660, 8497, 310, 269, 16697, 408, 9950, 260, 15118, 29889, 13, 29906, 29889, 450, 25657, 29915, 29879, 2602, 292, 6053, 373, 278, 6374, 6287, 29899, 7915, 310, 278, 15400, 29891, 29889, 13, 29941, 29889, 450, 13500, 310, 4392, 2827, 697, 29915, 29879, 623, 300, 568, 322, 652, 300, 653, 2299, 1169, 29892, 411, 9282, 304, 1208, 3842, 29892, 521, 324, 4156, 324, 29892, 322, 3144, 1851, 29891, 29889, 13, 29946, 29889, 450, 671, 310, 2652, 4979, 1169, 322, 8310, 29891, 408, 263, 1539, 481, 2015, 363, 278, 12760, 1220, 297, 21464, 8171, 4696, 29889, 13, 29945, 29889, 450, 25657, 29915, 29879, 10110, 408, 478, 579, 319, 533, 29892, 385, 21271, 1058, 338, 451, 2898, 541, 3265, 5189, 29892, 322, 1058, 7536, 277, 7093, 278, 13389, 358, 310, 2834, 975, 9406, 594, 2276, 663, 304, 652, 300, 653, 25091, 29889, 13, 29953, 29889, 450, 671, 310, 27448, 322, 1734, 1456, 10106, 278, 26627, 1199, 29892, 411, 3454, 763, 376, 3492, 508, 1065, 2820, 278, 3186, 8951, 521, 294, 262, 29915, 521, 579, 537, 29908, 322, 376, 29902, 508, 6299, 280, 2820, 278, 714, 808, 381, 1372, 310, 652, 1691, 1213, 13, 13, 3563, 497, 29892, 278, 26627, 1199, 1510, 4878, 263, 5412, 1999, 355, 310, 27448, 29892, 1734, 1456, 29892, 322, 7639, 362, 297, 21464, 8171, 4696, 29889]\n"
     ]
    },
    {
     "name": "stderr",
     "output_type": "stream",
     "text": [
      "/var/folders/h1/m5x6sfs57nlcs3l70snmm87c0000gn/T/ipykernel_34001/3302710784.py:12: SettingWithCopyWarning: \n",
      "A value is trying to be set on a copy of a slice from a DataFrame.\n",
      "Try using .loc[row_indexer,col_indexer] = value instead\n",
      "\n",
      "See the caveats in the documentation: https://pandas.pydata.org/pandas-docs/stable/user_guide/indexing.html#returning-a-view-versus-a-copy\n",
      "  df_small['predicted_genre_zero_shot'] = df_small['lyrics'].apply(zero_shot_classify)\n"
     ]
    },
    {
     "name": "stdout",
     "output_type": "stream",
     "text": [
      "                                              lyrics  \\\n",
      "0  Hey, if you were right I'd chase away\\nAll the...   \n",
      "1  There's something about the way we fit\\nThere'...   \n",
      "2  One drop in the ocean\\nCould be that magic pot...   \n",
      "3  I'm so tired of being here\\nSuppressed by all ...   \n",
      "4  Yeah, what, Vast Aire,; Shell Shock..\\nIt's th...   \n",
      "\n",
      "                           predicted_genre_zero_shot  \n",
      "0  model='llama2' created_at='2025-03-29T20:15:11...  \n",
      "1  model='llama2' created_at='2025-03-29T20:17:05...  \n",
      "2  model='llama2' created_at='2025-03-29T20:17:50...  \n",
      "3  model='llama2' created_at='2025-03-29T20:19:13...  \n",
      "4  model='llama2' created_at='2025-03-29T20:23:16...  \n"
     ]
    }
   ],
   "source": [
    "# use first 5 rows of the dataset\n",
    "df_small = df.head(5) \n",
    "\n",
    "# define the zero-shot function\n",
    "def zero_shot_classify(lyrics):\n",
    "    prompt = f\"Classify the following lyrics into a genre: {lyrics}\"\n",
    "    response = ollama.generate(model='llama2', prompt=prompt)  # specify the model\n",
    "    print(response)  # print the entire response to inspect its structure\n",
    "    return response  # temporarily return the whole response for inspection\n",
    "\n",
    "# apply the zero-shot function to the smaller dataset\n",
    "df_small['predicted_genre_zero_shot'] = df_small['lyrics'].apply(zero_shot_classify)\n",
    "\n",
    "# print the results\n",
    "print(df_small[['lyrics', 'predicted_genre_zero_shot']])"
   ]
  },
  {
   "cell_type": "code",
   "execution_count": 100,
   "id": "d6ed1674-c191-44bc-a69a-ae81cfd23780",
   "metadata": {},
   "outputs": [
    {
     "name": "stdout",
     "output_type": "stream",
     "text": [
      "model='llama2' created_at='2025-03-29T20:34:02.079397Z' done=True done_reason='stop' total_duration=156337621801 load_duration=11427198732 prompt_eval_count=374 prompt_eval_duration=47374387002 eval_count=419 eval_duration=97466620306 response='Based on the provided lyrics, here are my classifications:\\n\\n* \"Hey, if you were right I\\'d chase away / All the reasons for my old desire to change\" - Indie Folk\\n\\t+ This verse has a introspective and emotional tone, with a focus on personal growth and change. The language is simple and straightforward, but also poetic and evocative.\\n* \"But the right words, don\\'t improvise the ideals / My body sails into a passage waiting in vain\" - Alternative/Indie Rock\\n\\t+ This verse has a more upbeat and energetic tone, with a focus on language play and imagery. The use of the word \"sails\" and the mention of a \"passage\" suggest a sense of movement and progression.\\n* \"It might just be so uninviting, is it comical / From until now I\\'ve gone to something else\" - Alternative/Indie Rock\\n\\t+ This verse has a similar tone and style to the previous one, with a focus on language play and imagery. The use of the word \"uninviting\" and the mention of something \"else\" suggest a sense of irony or humor.\\n* \"I\\'ll never forget how I once saw myself / If not for the way I\\'d changed, if not for the way\" - Indie Folk\\n\\t+ This verse has a more introspective and emotional tone, with a focus on personal growth and change. The language is simple and straightforward, but also poetic and evocative.\\n* \"It\\'s not quite the same / I\\'ll never forget how I once saw myself\" - Alternative/Indie Rock\\n\\t+ This verse has a similar tone and style to the previous ones, with a focus on language play and imagery. The use of the phrase \"it\\'s not quite the same\" suggests a sense of nostalgia or longing.' context=[518, 25580, 29962, 3532, 14816, 29903, 29958, 5299, 829, 14816, 29903, 6778, 13, 13, 2385, 1598, 278, 1494, 26627, 1199, 964, 263, 16151, 2729, 373, 1438, 6455, 29901, 13, 29933, 10798, 29892, 306, 29915, 29885, 925, 330, 11586, 528, 1296, 29892, 528, 1296, 29892, 528, 1296, 29892, 528, 1296, 29892, 528, 1296, 13, 29902, 528, 1296, 372, 1283, 10309, 6977, 13, 29907, 1071, 306, 26277, 393, 20239, 2030, 5839, 786, 534, 2707, 366, 2360, 1235, 592, 7899, 10309, 15456, 13, 10454, 366, 13958, 515, 590, 17186, 13, 27552, 278, 15971, 575, 310, 14525, 2904, 265, 13, 3047, 596, 1045, 1862, 19540, 590, 6592, 13, 29943, 487, 369, 338, 278, 14225, 342, 378, 10309, 1894, 347, 8301, 29895, 13, 13, 29931, 4316, 1199, 29901, 18637, 29892, 565, 366, 892, 1492, 306, 29915, 29881, 521, 559, 3448, 13, 3596, 278, 2769, 363, 590, 2030, 13521, 304, 1735, 13, 6246, 278, 1492, 3838, 29892, 1016, 29915, 29873, 13153, 895, 278, 1957, 1338, 13, 3421, 3573, 269, 2234, 964, 263, 13382, 10534, 297, 15722, 13, 3112, 1795, 925, 367, 577, 443, 11569, 11407, 29892, 338, 372, 419, 936, 13, 4591, 2745, 1286, 306, 29915, 345, 7695, 304, 1554, 1683, 13, 29902, 29915, 645, 2360, 9566, 920, 306, 2748, 4446, 6142, 13, 3644, 451, 363, 278, 982, 306, 29915, 29881, 3939, 29892, 565, 451, 363, 278, 982, 13, 29903, 388, 29892, 1432, 7234, 338, 2337, 278, 1021, 13, 29954, 834, 292, 1095, 23769, 304, 278, 9670, 27091, 306, 29915, 29881, 2337, 6314, 13, 2887, 278, 4726, 20662, 567, 411, 278, 3056, 8159, 491, 278, 6575, 842, 13, 2855, 610, 14997, 911, 278, 7051, 381, 800, 310, 278, 2462, 13, 1576, 1492, 681, 4953, 278, 4047, 9223, 13, 1576, 19225, 6743, 29892, 896, 29915, 645, 2360, 1284, 393, 6520, 393, 29915, 29879, 19225, 963, 13, 29902, 29915, 645, 2360, 9566, 920, 306, 2748, 4446, 6142, 13, 3644, 451, 363, 278, 982, 306, 29915, 29881, 3939, 29892, 565, 451, 363, 278, 982, 13, 3112, 29915, 29879, 451, 3755, 278, 1021, 13, 29902, 29915, 645, 2360, 9566, 920, 306, 2748, 4446, 6142, 13, 3644, 451, 363, 278, 982, 306, 29915, 29881, 3939, 29892, 565, 451, 363, 278, 982, 13, 3112, 29915, 29879, 451, 3755, 278, 1021, 518, 29914, 25580, 29962, 13, 29933, 1463, 373, 278, 4944, 26627, 1199, 29892, 1244, 526, 590, 770, 8232, 29901, 13, 13, 29930, 376, 29950, 1032, 29892, 565, 366, 892, 1492, 306, 29915, 29881, 521, 559, 3448, 847, 2178, 278, 9590, 363, 590, 2030, 13521, 304, 1735, 29908, 448, 1894, 347, 8301, 29895, 13, 12, 29974, 910, 23281, 756, 263, 25956, 12645, 322, 23023, 1848, 16225, 29892, 411, 263, 8569, 373, 7333, 14321, 322, 1735, 29889, 450, 4086, 338, 2560, 322, 20837, 29892, 541, 884, 772, 7492, 322, 3415, 542, 1230, 29889, 13, 29930, 376, 6246, 278, 1492, 3838, 29892, 1016, 29915, 29873, 13153, 895, 278, 1957, 1338, 847, 1619, 3573, 269, 2234, 964, 263, 13382, 10534, 297, 15722, 29908, 448, 12440, 1230, 29914, 2568, 347, 8027, 13, 12, 29974, 910, 23281, 756, 263, 901, 701, 915, 271, 322, 4527, 657, 293, 16225, 29892, 411, 263, 8569, 373, 4086, 1708, 322, 6382, 708, 29889, 450, 671, 310, 278, 1734, 376, 29879, 2234, 29908, 322, 278, 3585, 310, 263, 376, 3364, 482, 29908, 4368, 263, 4060, 310, 10298, 322, 410, 11476, 29889, 13, 29930, 376, 3112, 1795, 925, 367, 577, 443, 11569, 11407, 29892, 338, 372, 419, 936, 847, 3645, 2745, 1286, 306, 29915, 345, 7695, 304, 1554, 1683, 29908, 448, 12440, 1230, 29914, 2568, 347, 8027, 13, 12, 29974, 910, 23281, 756, 263, 2788, 16225, 322, 3114, 304, 278, 3517, 697, 29892, 411, 263, 8569, 373, 4086, 1708, 322, 6382, 708, 29889, 450, 671, 310, 278, 1734, 376, 348, 11569, 11407, 29908, 322, 278, 3585, 310, 1554, 376, 2870, 29908, 4368, 263, 4060, 310, 3805, 2592, 470, 27448, 29889, 13, 29930, 376, 29902, 29915, 645, 2360, 9566, 920, 306, 2748, 4446, 6142, 847, 960, 451, 363, 278, 982, 306, 29915, 29881, 3939, 29892, 565, 451, 363, 278, 982, 29908, 448, 1894, 347, 8301, 29895, 13, 12, 29974, 910, 23281, 756, 263, 901, 25956, 12645, 322, 23023, 1848, 16225, 29892, 411, 263, 8569, 373, 7333, 14321, 322, 1735, 29889, 450, 4086, 338, 2560, 322, 20837, 29892, 541, 884, 772, 7492, 322, 3415, 542, 1230, 29889, 13, 29930, 376, 3112, 29915, 29879, 451, 3755, 278, 1021, 847, 306, 29915, 645, 2360, 9566, 920, 306, 2748, 4446, 6142, 29908, 448, 12440, 1230, 29914, 2568, 347, 8027, 13, 12, 29974, 910, 23281, 756, 263, 2788, 16225, 322, 3114, 304, 278, 3517, 6743, 29892, 411, 263, 8569, 373, 4086, 1708, 322, 6382, 708, 29889, 450, 671, 310, 278, 16549, 376, 277, 29915, 29879, 451, 3755, 278, 1021, 29908, 14661, 263, 4060, 310, 20990, 9564, 423, 470, 1472, 292, 29889]\n",
      "model='llama2' created_at='2025-03-29T20:37:37.009349Z' done=True done_reason='stop' total_duration=214793996078 load_duration=41547348 prompt_eval_count=494 prompt_eval_duration=53415046730 eval_count=316 eval_duration=161323044691 response='Based on the provided lyrics, here are my classifications for each section:\\n\\n* \"Baby, I\\'m just gonna shake, shake, shake, shake, shake\" - Pop\\n* \"Cause I hate that stupid old pickup truck you never let me drive\" - Country\\n* \"Now you hang from my lips / Like the Gardens of Babylon / With your boots beneath my bed / Forever is the sweetest con\" - Indie Folk\\n\\nThe rest of the lyrics seem to be a mix of Pop, Hip-Hop/Rap, and Rock/Punk. Here are my classifications for each section:\\n\\n* \"There\\'s something about the way we fit / There\\'s something about this psycho trip\" - Pop/Rock\\n* \"I want you / I hate you / The one I love I hate / But the sex is great\" - Hip-Hop/Rap\\n* \"The one I love I hate / But the sex is great / One, two, fuck you / Never say no\" - Hip-Hop/Rap\\n* \"I\\'m ready to go / We\\'re out of control / But I can\\'t let you go, let you go\" - Rock/Punk\\n\\nOverall, the lyrics seem to be a mix of different genres, but with a strong Pop and Hip-Hop influence.' context=[518, 25580, 29962, 3532, 14816, 29903, 29958, 5299, 829, 14816, 29903, 6778, 13, 13, 2385, 1598, 278, 1494, 26627, 1199, 964, 263, 16151, 2729, 373, 1438, 6455, 29901, 13, 29933, 10798, 29892, 306, 29915, 29885, 925, 330, 11586, 528, 1296, 29892, 528, 1296, 29892, 528, 1296, 29892, 528, 1296, 29892, 528, 1296, 13, 29902, 528, 1296, 372, 1283, 10309, 6977, 13, 29907, 1071, 306, 26277, 393, 20239, 2030, 5839, 786, 534, 2707, 366, 2360, 1235, 592, 7899, 10309, 15456, 13, 10454, 366, 13958, 515, 590, 17186, 13, 27552, 278, 15971, 575, 310, 14525, 2904, 265, 13, 3047, 596, 1045, 1862, 19540, 590, 6592, 13, 29943, 487, 369, 338, 278, 14225, 342, 378, 10309, 1894, 347, 8301, 29895, 13, 13, 29931, 4316, 1199, 29901, 1670, 29915, 29879, 1554, 1048, 278, 982, 591, 6216, 13, 8439, 29915, 29879, 1554, 1048, 445, 6529, 29891, 1859, 17487, 13, 8439, 29915, 29879, 1554, 1048, 278, 982, 591, 4071, 994, 13, 16804, 29915, 29879, 2355, 592, 322, 306, 925, 508, 29915, 29873, 2833, 304, 6755, 13, 29902, 864, 366, 13, 29902, 26277, 366, 13, 1576, 697, 306, 5360, 306, 26277, 13, 6246, 278, 7916, 338, 2107, 13, 1576, 697, 306, 5360, 306, 26277, 13, 6246, 278, 7916, 338, 2107, 13, 1576, 697, 306, 5360, 306, 26277, 13, 6295, 306, 640, 331, 2341, 13, 1576, 697, 306, 5360, 306, 26277, 13, 6246, 278, 7916, 338, 2107, 13, 8439, 29915, 29879, 1554, 1048, 278, 982, 591, 20343, 13, 8439, 29915, 29879, 1554, 1048, 445, 6529, 29891, 1859, 22203, 13, 8439, 29915, 29879, 1554, 1048, 278, 2712, 591, 437, 13, 16804, 29915, 29879, 2355, 592, 322, 306, 925, 508, 29915, 29873, 2833, 304, 6755, 13, 29902, 864, 366, 13, 29902, 26277, 366, 13, 1576, 697, 306, 5360, 306, 26277, 13, 6246, 278, 7916, 338, 2107, 13, 1576, 697, 306, 5360, 306, 26277, 13, 6246, 278, 7916, 338, 2107, 13, 1576, 697, 306, 5360, 306, 26277, 13, 6295, 306, 640, 331, 2341, 13, 1576, 697, 306, 5360, 306, 26277, 13, 6246, 278, 7916, 338, 2107, 13, 6716, 29892, 1023, 29892, 285, 2707, 366, 13, 29940, 1310, 1827, 694, 13, 29902, 29915, 29885, 7960, 304, 748, 13, 4806, 29915, 276, 714, 310, 2761, 13, 6246, 306, 508, 29915, 29873, 1235, 366, 748, 29892, 1235, 366, 748, 13, 8439, 29915, 29879, 1554, 1048, 278, 982, 591, 6216, 13, 8439, 29915, 29879, 1554, 1048, 445, 6529, 29891, 1859, 289, 2335, 13, 1576, 697, 306, 5360, 306, 26277, 13, 6246, 278, 7916, 338, 2107, 13, 1576, 697, 306, 5360, 306, 26277, 13, 6246, 278, 7916, 338, 2107, 13, 1576, 697, 306, 5360, 306, 26277, 13, 29902, 1033, 9378, 542, 403, 13, 1576, 697, 306, 5360, 306, 26277, 13, 6246, 278, 7916, 338, 2107, 13, 29902, 5360, 304, 26277, 366, 13, 13468, 1073, 306, 5360, 304, 26277, 366, 13, 13468, 1073, 306, 5360, 304, 26277, 366, 13, 13468, 1073, 306, 5360, 304, 26277, 366, 29892, 26277, 366, 29892, 26277, 366, 13, 29933, 2335, 518, 29914, 25580, 29962, 13, 29933, 1463, 373, 278, 4944, 26627, 1199, 29892, 1244, 526, 590, 770, 8232, 363, 1269, 4004, 29901, 13, 13, 29930, 376, 29933, 10798, 29892, 306, 29915, 29885, 925, 330, 11586, 528, 1296, 29892, 528, 1296, 29892, 528, 1296, 29892, 528, 1296, 29892, 528, 1296, 29908, 448, 6977, 13, 29930, 376, 29907, 1071, 306, 26277, 393, 20239, 2030, 5839, 786, 534, 2707, 366, 2360, 1235, 592, 7899, 29908, 448, 15456, 13, 29930, 376, 10454, 366, 13958, 515, 590, 17186, 847, 8502, 278, 15971, 575, 310, 14525, 2904, 265, 847, 2973, 596, 1045, 1862, 19540, 590, 6592, 847, 28297, 369, 338, 278, 14225, 342, 378, 29908, 448, 1894, 347, 8301, 29895, 13, 13, 1576, 1791, 310, 278, 26627, 1199, 2833, 304, 367, 263, 6837, 310, 6977, 29892, 379, 666, 29899, 29950, 459, 29914, 29934, 481, 29892, 322, 8027, 29914, 29925, 2960, 29889, 2266, 526, 590, 770, 8232, 363, 1269, 4004, 29901, 13, 13, 29930, 376, 8439, 29915, 29879, 1554, 1048, 278, 982, 591, 6216, 847, 1670, 29915, 29879, 1554, 1048, 445, 6529, 29891, 1859, 17487, 29908, 448, 6977, 29914, 29934, 1698, 13, 29930, 376, 29902, 864, 366, 847, 306, 26277, 366, 847, 450, 697, 306, 5360, 306, 26277, 847, 1205, 278, 7916, 338, 2107, 29908, 448, 379, 666, 29899, 29950, 459, 29914, 29934, 481, 13, 29930, 376, 1576, 697, 306, 5360, 306, 26277, 847, 1205, 278, 7916, 338, 2107, 847, 3118, 29892, 1023, 29892, 285, 2707, 366, 847, 12391, 1827, 694, 29908, 448, 379, 666, 29899, 29950, 459, 29914, 29934, 481, 13, 29930, 376, 29902, 29915, 29885, 7960, 304, 748, 847, 1334, 29915, 276, 714, 310, 2761, 847, 1205, 306, 508, 29915, 29873, 1235, 366, 748, 29892, 1235, 366, 748, 29908, 448, 8027, 29914, 29925, 2960, 13, 13, 3563, 497, 29892, 278, 26627, 1199, 2833, 304, 367, 263, 6837, 310, 1422, 2531, 690, 29892, 541, 411, 263, 4549, 6977, 322, 379, 666, 29899, 29950, 459, 9949, 29889]\n",
      "model='llama2' created_at='2025-03-29T20:38:47.170544Z' done=True done_reason='stop' total_duration=70029735285 load_duration=42692608 prompt_eval_count=198 prompt_eval_duration=9075758436 eval_count=247 eval_duration=60904836348 response='Based on the provided lyrics, here are the genres that I would classify them under:\\n\\n* \"One drop in the ocean\" and \"You\\'ve got to tear your doubt apart\" - Indie Folk\\n\\t+ These lyrics have a gentle, introspective quality to them, with a focus on emotional vulnerability and self-discovery. The use of natural imagery (\"ocean,\" \"doubt\") and the repetition of the phrase \"one love\" also suggest an indie folk sound.\\n* \"Faking is poison, my love\" - Pop\\n\\t+ This line has a catchy, sing-along quality to it, with a focus on the rhythm and melody of the lyrics. The use of the word \"poison\" also suggests a more mainstream pop sensibility.\\n* \"Magic potion\" - Pop/Rock\\n\\t+ This phrase has a fun, playful quality to it, and could work well in a pop or rock song. The repetition of the phrase also creates a sense of build-up and anticipation, which is often used in pop/rock music.' context=[518, 25580, 29962, 3532, 14816, 29903, 29958, 5299, 829, 14816, 29903, 6778, 13, 13, 2385, 1598, 278, 1494, 26627, 1199, 964, 263, 16151, 2729, 373, 1438, 6455, 29901, 13, 29933, 10798, 29892, 306, 29915, 29885, 925, 330, 11586, 528, 1296, 29892, 528, 1296, 29892, 528, 1296, 29892, 528, 1296, 29892, 528, 1296, 13, 29902, 528, 1296, 372, 1283, 10309, 6977, 13, 29907, 1071, 306, 26277, 393, 20239, 2030, 5839, 786, 534, 2707, 366, 2360, 1235, 592, 7899, 10309, 15456, 13, 10454, 366, 13958, 515, 590, 17186, 13, 27552, 278, 15971, 575, 310, 14525, 2904, 265, 13, 3047, 596, 1045, 1862, 19540, 590, 6592, 13, 29943, 487, 369, 338, 278, 14225, 342, 378, 10309, 1894, 347, 8301, 29895, 13, 13, 29931, 4316, 1199, 29901, 3118, 5768, 297, 278, 23474, 13, 23323, 367, 393, 15709, 3104, 291, 13, 6716, 5360, 29892, 1023, 26490, 13, 3492, 29915, 345, 2355, 304, 734, 279, 596, 7404, 12435, 13, 29902, 925, 8496, 29915, 29873, 25713, 385, 953, 8194, 13, 29943, 5086, 338, 27908, 29892, 590, 5360, 13, 4013, 338, 278, 697, 10322, 13, 1576, 15709, 3104, 291, 13, 1576, 15709, 3104, 291, 13, 1576, 15709, 3104, 291, 856, 518, 29914, 25580, 29962, 13, 29933, 1463, 373, 278, 4944, 26627, 1199, 29892, 1244, 526, 278, 2531, 690, 393, 306, 723, 770, 1598, 963, 1090, 29901, 13, 13, 29930, 376, 6716, 5768, 297, 278, 23474, 29908, 322, 376, 3492, 29915, 345, 2355, 304, 734, 279, 596, 7404, 12435, 29908, 448, 1894, 347, 8301, 29895, 13, 12, 29974, 4525, 26627, 1199, 505, 263, 9914, 29892, 25956, 12645, 11029, 304, 963, 29892, 411, 263, 8569, 373, 23023, 1848, 23180, 3097, 322, 1583, 29899, 2218, 11911, 29891, 29889, 450, 671, 310, 5613, 6382, 708, 4852, 29877, 11956, 1699, 376, 29881, 283, 3116, 1159, 322, 278, 21159, 654, 310, 278, 16549, 376, 650, 5360, 29908, 884, 4368, 385, 1399, 347, 19589, 6047, 29889, 13, 29930, 376, 29943, 5086, 338, 27908, 29892, 590, 5360, 29908, 448, 6977, 13, 12, 29974, 910, 1196, 756, 263, 4380, 29891, 29892, 1809, 29899, 284, 549, 11029, 304, 372, 29892, 411, 263, 8569, 373, 278, 18178, 29265, 322, 9232, 1486, 310, 278, 26627, 1199, 29889, 450, 671, 310, 278, 1734, 376, 1129, 2285, 29908, 884, 14661, 263, 901, 1667, 5461, 1835, 4771, 4127, 29889, 13, 29930, 376, 19095, 293, 3104, 291, 29908, 448, 6977, 29914, 29934, 1698, 13, 12, 29974, 910, 16549, 756, 263, 2090, 29892, 1708, 1319, 11029, 304, 372, 29892, 322, 1033, 664, 1532, 297, 263, 1835, 470, 7679, 4823, 29889, 450, 21159, 654, 310, 278, 16549, 884, 10017, 263, 4060, 310, 2048, 29899, 786, 322, 23483, 362, 29892, 607, 338, 4049, 1304, 297, 1835, 29914, 20821, 4696, 29889]\n",
      "model='llama2' created_at='2025-03-29T20:40:18.253916Z' done=True done_reason='stop' total_duration=90980780965 load_duration=32738927 prompt_eval_count=486 prompt_eval_duration=48687251313 eval_count=160 eval_duration=42244560924 response='Based on the lyrics provided, I would classify them into the following genre:\\n\\n* Indie Folk\\n\\nThe lyrics convey a sense of longing, grief, and loss, which are common themes in indie folk music. The use of repetition in the chorus (\"You still have all of me, me, me\") and the emphasis on the speaker\\'s emotional state (\"I\\'m so tired of being here\", \"Suppressed by all my childish fears\", \"Your face it haunts my once pleasant dreams\") also suggest an indie folk style. Additionally, the lyrics touch on themes of nostalgia and the passage of time, which are also common in indie folk music.' context=[518, 25580, 29962, 3532, 14816, 29903, 29958, 5299, 829, 14816, 29903, 6778, 13, 13, 2385, 1598, 278, 1494, 26627, 1199, 964, 263, 16151, 2729, 373, 1438, 6455, 29901, 13, 29933, 10798, 29892, 306, 29915, 29885, 925, 330, 11586, 528, 1296, 29892, 528, 1296, 29892, 528, 1296, 29892, 528, 1296, 29892, 528, 1296, 13, 29902, 528, 1296, 372, 1283, 10309, 6977, 13, 29907, 1071, 306, 26277, 393, 20239, 2030, 5839, 786, 534, 2707, 366, 2360, 1235, 592, 7899, 10309, 15456, 13, 10454, 366, 13958, 515, 590, 17186, 13, 27552, 278, 15971, 575, 310, 14525, 2904, 265, 13, 3047, 596, 1045, 1862, 19540, 590, 6592, 13, 29943, 487, 369, 338, 278, 14225, 342, 378, 10309, 1894, 347, 8301, 29895, 13, 13, 29931, 4316, 1199, 29901, 306, 29915, 29885, 577, 23407, 310, 1641, 1244, 13, 20182, 1253, 287, 491, 599, 590, 2278, 728, 8866, 29879, 13, 2855, 565, 366, 505, 304, 5967, 13, 29902, 6398, 393, 366, 723, 925, 5967, 13, 29915, 29907, 1071, 596, 10122, 1603, 16850, 414, 1244, 13, 2855, 372, 2113, 29915, 29873, 5967, 592, 7432, 13, 1349, 968, 281, 3885, 2113, 29915, 29873, 2833, 304, 540, 284, 29892, 445, 6788, 338, 925, 2086, 1855, 13, 8439, 29915, 29879, 925, 2086, 1568, 393, 931, 2609, 604, 559, 13, 10401, 366, 10680, 29892, 306, 29915, 29881, 281, 15705, 3448, 599, 310, 596, 20190, 13, 10401, 366, 29915, 29881, 885, 1633, 29892, 306, 29915, 29881, 8589, 3448, 599, 310, 596, 8866, 29879, 13, 2855, 306, 4934, 596, 1361, 1549, 599, 310, 1438, 2440, 13, 6246, 366, 1603, 505, 599, 310, 592, 13, 3492, 1304, 304, 4332, 440, 403, 592, 491, 596, 27396, 1218, 3578, 13, 10454, 29892, 306, 29915, 29885, 3216, 491, 278, 2834, 366, 2175, 5742, 13, 10858, 3700, 372, 447, 348, 1372, 590, 2748, 21246, 12561, 29879, 13, 10858, 7314, 372, 521, 1463, 3448, 599, 278, 9753, 537, 297, 592, 13, 1349, 968, 281, 3885, 2113, 29915, 29873, 2833, 304, 540, 284, 29892, 445, 6788, 338, 925, 2086, 1855, 13, 8439, 29915, 29879, 925, 2086, 1568, 393, 931, 2609, 604, 559, 13, 10401, 366, 10680, 29892, 306, 29915, 29881, 281, 15705, 3448, 599, 310, 596, 20190, 13, 10401, 366, 29915, 29881, 885, 1633, 29892, 306, 29915, 29881, 8589, 3448, 599, 310, 596, 8866, 29879, 13, 2855, 306, 4934, 596, 1361, 1549, 599, 310, 1438, 2440, 13, 6246, 366, 1603, 505, 599, 310, 592, 13, 29902, 29915, 345, 1898, 577, 2898, 304, 2649, 6142, 393, 366, 29915, 276, 7695, 13, 6246, 2466, 366, 29915, 276, 1603, 411, 592, 29892, 306, 29915, 345, 1063, 7432, 599, 3412, 13, 10401, 366, 10680, 29892, 306, 29915, 29881, 281, 15705, 3448, 599, 310, 596, 20190, 13, 10401, 366, 29915, 29881, 885, 1633, 29892, 306, 29915, 29881, 8589, 3448, 599, 310, 596, 8866, 29879, 13, 2855, 306, 4934, 596, 1361, 1549, 599, 310, 1438, 2440, 13, 3492, 1603, 505, 599, 310, 592, 29892, 592, 29892, 592, 518, 29914, 25580, 29962, 13, 29933, 1463, 373, 278, 26627, 1199, 4944, 29892, 306, 723, 770, 1598, 963, 964, 278, 1494, 16151, 29901, 13, 13, 29930, 1894, 347, 8301, 29895, 13, 13, 1576, 26627, 1199, 27769, 263, 4060, 310, 1472, 292, 29892, 867, 2575, 29892, 322, 6410, 29892, 607, 526, 3619, 963, 267, 297, 1399, 347, 19589, 4696, 29889, 450, 671, 310, 21159, 654, 297, 278, 521, 16566, 4852, 3492, 1603, 505, 599, 310, 592, 29892, 592, 29892, 592, 1159, 322, 278, 19310, 275, 373, 278, 25657, 29915, 29879, 23023, 1848, 2106, 4852, 29902, 29915, 29885, 577, 23407, 310, 1641, 1244, 613, 376, 20182, 1253, 287, 491, 599, 590, 2278, 728, 8866, 29879, 613, 376, 10858, 3700, 372, 447, 348, 1372, 590, 2748, 21246, 12561, 29879, 1159, 884, 4368, 385, 1399, 347, 19589, 3114, 29889, 19814, 29892, 278, 26627, 1199, 6023, 373, 963, 267, 310, 20990, 9564, 423, 322, 278, 13382, 310, 931, 29892, 607, 526, 884, 3619, 297, 1399, 347, 19589, 4696, 29889]\n",
      "model='llama2' created_at='2025-03-29T20:43:44.109434Z' done=True done_reason='stop' total_duration=205770578559 load_duration=43847131 prompt_eval_count=1237 prompt_eval_duration=149432270549 eval_count=231 eval_duration=56282043752 response=\"Based on the lyrics provided, I would classify them as a mix of Hip Hop and Indie Folk. Here's why:\\n\\n* The use of rhyming couplets and a consistent rhythm throughout the lyrics is reminiscent of traditional Hip Hop.\\n* The lyrics touch on themes of self-expression, creativity, and individuality, which are common in Indie Folk music.\\n* The incorporation of wordplay, double meanings, and clever turns of phrase also suggests a strong connection to the Hip Hop tradition of verbal dexterity.\\n* However, the lyrics also contain references to nature, spirituality, and personal growth that are more commonly associated with Indie Folk.\\n* The use of imagery and metaphor is also prevalent in both Hip Hop and Indie Folk, which adds depth and complexity to the lyrics.\\n\\nOverall, these lyrics blend elements of both Hip Hop and Indie Folk to create a unique sound that defies traditional genre classifications.\" context=[518, 25580, 29962, 3532, 14816, 29903, 29958, 5299, 829, 14816, 29903, 6778, 13, 13, 2385, 1598, 278, 1494, 26627, 1199, 964, 263, 16151, 2729, 373, 1438, 6455, 29901, 13, 29933, 10798, 29892, 306, 29915, 29885, 925, 330, 11586, 528, 1296, 29892, 528, 1296, 29892, 528, 1296, 29892, 528, 1296, 29892, 528, 1296, 13, 29902, 528, 1296, 372, 1283, 10309, 6977, 13, 29907, 1071, 306, 26277, 393, 20239, 2030, 5839, 786, 534, 2707, 366, 2360, 1235, 592, 7899, 10309, 15456, 13, 10454, 366, 13958, 515, 590, 17186, 13, 27552, 278, 15971, 575, 310, 14525, 2904, 265, 13, 3047, 596, 1045, 1862, 19540, 590, 6592, 13, 29943, 487, 369, 338, 278, 14225, 342, 378, 10309, 1894, 347, 8301, 29895, 13, 13, 29931, 4316, 1199, 29901, 15011, 29892, 825, 29892, 478, 579, 319, 533, 29892, 29936, 1383, 514, 17550, 384, 636, 13, 3112, 29915, 29879, 393, 8310, 29891, 29892, 366, 1073, 825, 306, 29915, 29885, 5934, 29973, 13, 4013, 5771, 714, 304, 590, 1339, 8238, 14662, 310, 2180, 4835, 13, 29898, 7058, 29915, 29879, 590, 1734, 29892, 306, 5360, 963, 29897, 13, 4013, 5771, 714, 278, 1894, 295, 1821, 21271, 29915, 29879, 448, 366, 1073, 896, 317, 6040, 29979, 443, 13529, 519, 13, 4013, 5771, 714, 304, 6211, 310, 349, 23379, 379, 737, 7679, 13, 21472, 12626, 29892, 1833, 541, 451, 3203, 13, 29954, 1025, 264, 341, 4992, 2233, 273, 29892, 887, 1073, 323, 29899, 29896, 29892, 263, 29889, 29895, 29889, 29874, 29889, 1383, 514, 17550, 384, 29892, 274, 29915, 3712, 13, 2855, 306, 29915, 29885, 478, 579, 319, 533, 448, 525, 29876, 3096, 1497, 13, 10454, 29892, 1235, 502, 2048, 2501, 445, 2228, 13, 3644, 278, 22080, 304, 22977, 338, 12474, 29892, 769, 269, 16697, 14741, 408, 9950, 260, 15118, 13, 2855, 408, 697, 508, 1074, 29892, 306, 505, 694, 2913, 29991, 13, 6246, 306, 3933, 373, 278, 6374, 6287, 29899, 7915, 310, 278, 15400, 29891, 13, 5618, 29892, 366, 281, 9713, 2329, 285, 9864, 1270, 29973, 13, 3492, 508, 1065, 2820, 278, 3186, 8951, 521, 294, 262, 29915, 521, 579, 537, 13, 5618, 297, 278, 19339, 25622, 366, 29973, 3872, 29915, 29873, 366, 1073, 306, 286, 315, 812, 747, 284, 29973, 13, 7058, 2794, 746, 306, 29915, 29885, 18178, 962, 292, 393, 306, 679, 1623, 304, 278, 289, 650, 867, 391, 280, 13, 29902, 1369, 301, 860, 262, 29915, 590, 285, 292, 814, 4512, 297, 278, 4583, 8096, 13, 13393, 29892, 18180, 29892, 306, 29915, 29885, 6133, 1135, 13, 7058, 29915, 29879, 1492, 29892, 2038, 738, 313, 1384, 29897, 3632, 387, 4708, 13, 4690, 29907, 2439, 5521, 29961, 28772, 29962, 18121, 13, 6246, 393, 29915, 29879, 17620, 278, 1298, 13, 29911, 514, 592, 1058, 29915, 29879, 330, 11586, 4808, 278, 7688, 29973, 13, 29902, 508, 29915, 29873, 4480, 738, 5520, 13, 29902, 29915, 29885, 7960, 304, 4808, 715, 1078, 411, 2581, 23294, 801, 13, 15156, 2448, 415, 1540, 29915, 29879, 27350, 29892, 14509, 3091, 375, 304, 4337, 975, 13, 29902, 29915, 29885, 1244, 1434, 17803, 13, 18759, 292, 278, 29498, 293, 6137, 310, 10619, 29879, 1283, 13, 11760, 306, 29915, 29885, 1462, 5890, 263, 1591, 695, 720, 13, 29979, 29877, 29892, 366, 508, 4380, 592, 29892, 15690, 20710, 298, 468, 13, 29902, 508, 29915, 29873, 4459, 18178, 1541, 1516, 1728, 521, 324, 4156, 324, 13, 13555, 599, 29892, 366, 1818, 5110, 304, 13, 1252, 314, 457, 278, 623, 300, 568, 13, 3047, 262, 278, 11205, 16301, 13, 3047, 262, 278, 10122, 310, 278, 2703, 29876, 440, 487, 29915, 29879, 10977, 13, 7058, 338, 306, 13, 2855, 746, 6575, 4366, 528, 1475, 1283, 590, 20961, 271, 13, 4806, 1246, 372, 278, 21635, 16041, 301, 653, 23818, 301, 272, 1165, 25158, 13, 2831, 278, 10697, 13, 4013, 338, 1855, 2834, 29892, 322, 306, 29915, 29885, 478, 579, 319, 533, 13, 29902, 5491, 7726, 363, 1208, 3842, 29961, 28772, 29962, 13, 29903, 9089, 1460, 21271, 29915, 29879, 1811, 304, 1369, 1047, 621, 262, 29915, 13, 29933, 352, 326, 293, 21271, 29915, 29879, 1811, 304, 3183, 1554, 701, 13, 29902, 508, 6299, 280, 2820, 278, 714, 808, 381, 1372, 310, 652, 1691, 13, 29909, 1016, 329, 472, 7145, 11147, 7216, 29915, 29873, 302, 4774, 262, 29915, 13, 29902, 29915, 29885, 263, 3144, 1851, 29991, 13, 10454, 1235, 29915, 29879, 2048, 2501, 445, 2228, 13, 3644, 278, 22080, 304, 22977, 338, 12474, 29892, 769, 269, 16697, 14741, 408, 9950, 260, 15118, 13, 2855, 408, 697, 508, 1074, 29892, 306, 505, 694, 2913, 29991, 13, 6246, 306, 3933, 373, 278, 6374, 6287, 29899, 7915, 310, 278, 15400, 29891, 13, 5618, 29915, 366, 281, 9713, 2329, 285, 9864, 1270, 29973, 13, 3492, 508, 1065, 2820, 278, 3186, 8951, 521, 294, 262, 29915, 521, 579, 537, 13, 2855, 599, 393, 448, 366, 12902, 29915, 12676, 29973, 13, 3112, 29915, 29879, 323, 29899, 29896, 322, 478, 579, 319, 533, 13, 1576, 12760, 1220, 338, 763, 2652, 4979, 1169, 322, 8310, 29891, 29892, 12902, 29915, 12676, 29973, 13, 29979, 29877, 306, 29915, 29885, 478, 579, 319, 533, 29892, 306, 29915, 29885, 451, 263, 2898, 21271, 13, 29902, 29915, 29885, 451, 263, 2898, 21271, 448, 306, 29915, 29885, 478, 579, 319, 533, 13, 29902, 29915, 29885, 451, 263, 2898, 21271, 448, 306, 29915, 29885, 5189, 13, 29902, 29915, 645, 2317, 701, 2078, 5080, 29915, 7375, 282, 1862, 310, 282, 21549, 21464, 29899, 29882, 459, 13, 1576, 3144, 1851, 29891, 2768, 310, 592, 2113, 29915, 29873, 5040, 13, 29979, 29877, 29892, 372, 2113, 29915, 29873, 5040, 13, 3644, 366, 508, 29915, 29873, 505, 596, 274, 1296, 322, 17545, 372, 29892, 366, 2360, 750, 372, 13, 10773, 1582, 29892, 2298, 372, 7216, 29915, 29873, 1584, 596, 12060, 3250, 330, 326, 1004, 393, 29991, 13, 10454, 366, 2181, 1160, 287, 701, 590, 4972, 756, 393, 11509, 13, 3492, 881, 505, 25993, 29871, 29941, 29900, 6233, 304, 3965, 1708, 13, 9048, 29892, 366, 29915, 29872, 263, 285, 328, 21271, 29973, 5674, 565, 366, 1016, 29915, 29873, 1827, 13, 3492, 17229, 472, 278, 20710, 29892, 322, 599, 306, 1074, 338, 263, 18130, 29883, 482, 13, 29963, 579, 338, 278, 13901, 9103, 21271, 366, 2360, 13112, 297, 13, 6295, 306, 1109, 3276, 366, 29892, 2861, 304, 4439, 21305, 29878, 654, 13, 12513, 29879, 526, 2086, 6668, 630, 13, 1349, 1774, 896, 892, 9950, 541, 896, 871, 26060, 4094, 13, 3492, 1073, 963, 278, 2243, 12981, 728, 1134, 29892, 896, 679, 5331, 304, 278, 8370, 6129, 357, 13, 3624, 366, 4084, 479, 911, 29973, 13, 1576, 13772, 21260, 5834, 7213, 895, 592, 13, 1576, 6054, 7339, 521, 431, 1609, 13133, 322, 263, 521, 431, 1609, 1339, 368, 13, 3492, 4459, 262, 592, 29973, 313, 29979, 29923, 29909, 29950, 14366, 887, 4459, 262, 592, 29973, 313, 29979, 29923, 29909, 29950, 14366, 13, 6132, 366, 281, 9713, 8293, 263, 2217, 901, 29973, 313, 9606, 2208, 612, 29923, 29909, 29950, 14366, 13, 1576, 9560, 17346, 310, 2834, 13, 3492, 1016, 29915, 29873, 864, 592, 304, 7845, 373, 278, 916, 1095, 310, 278, 1074, 29899, 29879, 1450, 13, 29915, 29907, 1071, 366, 29915, 276, 13421, 366, 1795, 1074, 901, 13, 3492, 1795, 1074, 901, 13, 29911, 29899, 29896, 29892, 540, 701, 373, 372, 29892, 366, 1073, 825, 306, 29915, 29885, 1827, 262, 29915, 29973, 13, 29979, 29877, 29892, 306, 29915, 29885, 478, 579, 319, 533, 306, 1063, 373, 372, 13, 29963, 536, 352, 29892, 540, 701, 297, 1244, 856, 318, 29882, 29892, 825, 29973, 13, 29961, 328, 4303, 29879, 322, 11916, 2745, 1095, 29962, 518, 29914, 25580, 29962, 13, 29933, 1463, 373, 278, 26627, 1199, 4944, 29892, 306, 723, 770, 1598, 963, 408, 263, 6837, 310, 379, 666, 20727, 322, 1894, 347, 8301, 29895, 29889, 2266, 29915, 29879, 2020, 29901, 13, 13, 29930, 450, 671, 310, 18178, 962, 292, 7303, 1372, 322, 263, 13747, 18178, 29265, 10106, 278, 26627, 1199, 338, 1083, 262, 275, 1760, 310, 13807, 379, 666, 20727, 29889, 13, 29930, 450, 26627, 1199, 6023, 373, 963, 267, 310, 1583, 29899, 17471, 29892, 907, 28157, 29892, 322, 5375, 537, 29892, 607, 526, 3619, 297, 1894, 347, 8301, 29895, 4696, 29889, 13, 29930, 450, 11039, 362, 310, 1734, 1456, 29892, 3765, 2099, 886, 29892, 322, 23455, 12169, 310, 16549, 884, 14661, 263, 4549, 3957, 304, 278, 379, 666, 20727, 11399, 310, 1147, 5521, 316, 23612, 537, 29889, 13, 29930, 2398, 29892, 278, 26627, 1199, 884, 1712, 9282, 304, 5469, 29892, 20954, 537, 29892, 322, 7333, 14321, 393, 526, 901, 15574, 6942, 411, 1894, 347, 8301, 29895, 29889, 13, 29930, 450, 671, 310, 6382, 708, 322, 1539, 481, 2015, 338, 884, 758, 791, 296, 297, 1716, 379, 666, 20727, 322, 1894, 347, 8301, 29895, 29892, 607, 12778, 10809, 322, 13644, 304, 278, 26627, 1199, 29889, 13, 13, 3563, 497, 29892, 1438, 26627, 1199, 1999, 355, 3161, 310, 1716, 379, 666, 20727, 322, 1894, 347, 8301, 29895, 304, 1653, 263, 5412, 6047, 393, 822, 583, 13807, 16151, 770, 8232, 29889]\n"
     ]
    },
    {
     "name": "stderr",
     "output_type": "stream",
     "text": [
      "/var/folders/h1/m5x6sfs57nlcs3l70snmm87c0000gn/T/ipykernel_34001/2223633238.py:16: SettingWithCopyWarning: \n",
      "A value is trying to be set on a copy of a slice from a DataFrame.\n",
      "Try using .loc[row_indexer,col_indexer] = value instead\n",
      "\n",
      "See the caveats in the documentation: https://pandas.pydata.org/pandas-docs/stable/user_guide/indexing.html#returning-a-view-versus-a-copy\n",
      "  df_small['predicted_genre_few_shot'] = df_small['lyrics'].apply(few_shot_classify)\n"
     ]
    },
    {
     "name": "stdout",
     "output_type": "stream",
     "text": [
      "                                              lyrics  \\\n",
      "0  Hey, if you were right I'd chase away\\nAll the...   \n",
      "1  There's something about the way we fit\\nThere'...   \n",
      "2  One drop in the ocean\\nCould be that magic pot...   \n",
      "3  I'm so tired of being here\\nSuppressed by all ...   \n",
      "4  Yeah, what, Vast Aire,; Shell Shock..\\nIt's th...   \n",
      "\n",
      "                            predicted_genre_few_shot  \n",
      "0  model='llama2' created_at='2025-03-29T20:34:02...  \n",
      "1  model='llama2' created_at='2025-03-29T20:37:37...  \n",
      "2  model='llama2' created_at='2025-03-29T20:38:47...  \n",
      "3  model='llama2' created_at='2025-03-29T20:40:18...  \n",
      "4  model='llama2' created_at='2025-03-29T20:43:44...  \n"
     ]
    }
   ],
   "source": [
    "# define the few-shot function\n",
    "few_shot_examples = [\n",
    "    \"Baby, I'm just gonna shake, shake, shake, shake, shake\\nI shake it off → Pop\",  \n",
    "    \"Cause I hate that stupid old pickup truck you never let me drive → Country\",  \n",
    "    \"Now you hang from my lips\\nLike the Gardens of Babylon\\nWith your boots beneath my bed\\nForever is the sweetest con → Indie Folk\"\n",
    "]\n",
    "\n",
    "def few_shot_classify(lyrics):\n",
    "    examples = \"\\n\".join(few_shot_examples)\n",
    "    prompt = f\"Classify the following lyrics into a genre based on these examples:\\n{examples}\\n\\nLyrics: {lyrics}\"\n",
    "    response = ollama.generate(model='llama2', prompt=prompt)  # specify the model\n",
    "    print(response)  # print the entire response to inspect its structure\n",
    "    return response  # temporarily return the whole response for inspection\n",
    "\n",
    "# apply the few-shot function to the smaller dataset\n",
    "df_small['predicted_genre_few_shot'] = df_small['lyrics'].apply(few_shot_classify)\n",
    "\n",
    "# print the results\n",
    "print(df_small[['lyrics', 'predicted_genre_few_shot']])"
   ]
  },
  {
   "cell_type": "markdown",
   "id": "8ec8cf2a-fb0e-4018-8591-c11d41594e7d",
   "metadata": {},
   "source": [
    "## Calculating Precision, F1 score and Recall of both strategies"
   ]
  },
  {
   "cell_type": "code",
   "execution_count": 118,
   "id": "23447146-2a9c-47f2-bf1a-ae2d5239daa3",
   "metadata": {},
   "outputs": [
    {
     "name": "stdout",
     "output_type": "stream",
     "text": [
      "Zero Shot Strategy:\n",
      "  Precision: 0.50\n",
      "  Recall: 0.50\n",
      "  F1 Score: 0.50\n",
      "\n",
      "Few Shot Strategy:\n",
      "  Precision: 0.38\n",
      "  Recall: 0.42\n",
      "  F1 Score: 0.37\n"
     ]
    },
    {
     "name": "stderr",
     "output_type": "stream",
     "text": [
      "/var/folders/h1/m5x6sfs57nlcs3l70snmm87c0000gn/T/ipykernel_34001/2487867479.py:17: FutureWarning: Downcasting behavior in `replace` is deprecated and will be removed in a future version. To retain the old behavior, explicitly call `result.infer_objects(copy=False)`. To opt-in to the future behavior, set `pd.set_option('future.no_silent_downcasting', True)`\n",
      "  correct_labels = df[\"Correct Genre\"].replace(label_mapping)\n",
      "/var/folders/h1/m5x6sfs57nlcs3l70snmm87c0000gn/T/ipykernel_34001/2487867479.py:23: FutureWarning: Downcasting behavior in `replace` is deprecated and will be removed in a future version. To retain the old behavior, explicitly call `result.infer_objects(copy=False)`. To opt-in to the future behavior, set `pd.set_option('future.no_silent_downcasting', True)`\n",
      "  zero_shot_labels = df[\"Zero Shot\"].replace(zero_shot_mapping)\n",
      "/var/folders/h1/m5x6sfs57nlcs3l70snmm87c0000gn/T/ipykernel_34001/2487867479.py:24: FutureWarning: Downcasting behavior in `replace` is deprecated and will be removed in a future version. To retain the old behavior, explicitly call `result.infer_objects(copy=False)`. To opt-in to the future behavior, set `pd.set_option('future.no_silent_downcasting', True)`\n",
      "  few_shot_labels = df[\"Few Shot\"].replace(few_shot_mapping)\n",
      "/Users/natalie/Downloads/python/anaconda3/lib/python3.12/site-packages/sklearn/metrics/_classification.py:1469: UndefinedMetricWarning: Precision is ill-defined and being set to 0.0 in labels with no predicted samples. Use `zero_division` parameter to control this behavior.\n",
      "  _warn_prf(average, modifier, msg_start, len(result))\n",
      "/Users/natalie/Downloads/python/anaconda3/lib/python3.12/site-packages/sklearn/metrics/_classification.py:1469: UndefinedMetricWarning: Recall is ill-defined and being set to 0.0 in labels with no true samples. Use `zero_division` parameter to control this behavior.\n",
      "  _warn_prf(average, modifier, msg_start, len(result))\n",
      "/Users/natalie/Downloads/python/anaconda3/lib/python3.12/site-packages/sklearn/metrics/_classification.py:1469: UndefinedMetricWarning: Precision is ill-defined and being set to 0.0 in labels with no predicted samples. Use `zero_division` parameter to control this behavior.\n",
      "  _warn_prf(average, modifier, msg_start, len(result))\n",
      "/Users/natalie/Downloads/python/anaconda3/lib/python3.12/site-packages/sklearn/metrics/_classification.py:1469: UndefinedMetricWarning: Recall is ill-defined and being set to 0.0 in labels with no true samples. Use `zero_division` parameter to control this behavior.\n",
      "  _warn_prf(average, modifier, msg_start, len(result))\n"
     ]
    }
   ],
   "source": [
    "from sklearn.metrics import precision_score, recall_score, f1_score\n",
    "\n",
    "# data from the table\n",
    "data = {\n",
    "    \"Song\": [1, 2, 3, 4, 5],\n",
    "    \"Zero Shot\": [\"Alternative Rock\", \"Punk Rock\", \"Pop\", \"Emo/sad core\", \"Experimental hip hop\"],\n",
    "    \"Few Shot\": [\"Indie Rock\", \"Hip hop/Rock\", \"Pop/rock\", \"Indie Folk\", \"Hip hop/Indie Folk\"],\n",
    "    \"Correct Genre\": [\"Rock\", \"Rock\", \"Electronic\", \"Rock\", \"Hip hop\"]\n",
    "}\n",
    "\n",
    "# convert to df\n",
    "df = pd.DataFrame(data)\n",
    "\n",
    "# convert genres to numerical labels\n",
    "label_mapping = {\"Rock\": 0, \"Electronic\": 1, \"Hip hop\": 2, \"Pop\": 3}\n",
    "correct_labels = df[\"Correct Genre\"].replace(label_mapping)\n",
    "\n",
    "# convert zero-shot and few-shot outputs to numerical labels\n",
    "zero_shot_mapping = {\"Alternative Rock\": 0, \"Punk Rock\": 0, \"Pop\": 3, \"Emo/sad core\": 0, \"Experimental hip hop\": 2}\n",
    "few_shot_mapping = {\"Indie Rock\": 0, \"Hip hop/Rock\": 2, \"Pop/rock\": 3, \"Indie Folk\": 0, \"Hip hop/Indie Folk\": 2}\n",
    "\n",
    "zero_shot_labels = df[\"Zero Shot\"].replace(zero_shot_mapping)\n",
    "few_shot_labels = df[\"Few Shot\"].replace(few_shot_mapping)\n",
    "\n",
    "# compute Precision, Recall, and F1 Score for Zero-Shot \n",
    "zero_shot_precision = precision_score(correct_labels, zero_shot_labels, average=\"macro\")\n",
    "zero_shot_recall = recall_score(correct_labels, zero_shot_labels, average=\"macro\")\n",
    "zero_shot_f1 = f1_score(correct_labels, zero_shot_labels, average=\"macro\")\n",
    "\n",
    "# compute Precision, Recall, and F1 Score for Few-Shot \n",
    "few_shot_precision = precision_score(correct_labels, few_shot_labels, average=\"macro\")\n",
    "few_shot_recall = recall_score(correct_labels, few_shot_labels, average=\"macro\")\n",
    "few_shot_f1 = f1_score(correct_labels, few_shot_labels, average=\"macro\")\n",
    "\n",
    "# print result\n",
    "print(\"Zero Shot Strategy:\")\n",
    "print(f\"  Precision: {zero_shot_precision:.2f}\")\n",
    "print(f\"  Recall: {zero_shot_recall:.2f}\")\n",
    "print(f\"  F1 Score: {zero_shot_f1:.2f}\\n\")\n",
    "\n",
    "print(\"Few Shot Strategy:\")\n",
    "print(f\"  Precision: {few_shot_precision:.2f}\")\n",
    "print(f\"  Recall: {few_shot_recall:.2f}\")\n",
    "print(f\"  F1 Score: {few_shot_f1:.2f}\")"
   ]
  }
 ],
 "metadata": {
  "kernelspec": {
   "display_name": "Python 3 (ipykernel)",
   "language": "python",
   "name": "python3"
  },
  "language_info": {
   "codemirror_mode": {
    "name": "ipython",
    "version": 3
   },
   "file_extension": ".py",
   "mimetype": "text/x-python",
   "name": "python",
   "nbconvert_exporter": "python",
   "pygments_lexer": "ipython3",
   "version": "3.12.4"
  }
 },
 "nbformat": 4,
 "nbformat_minor": 5
}
